{
 "cells": [
  {
   "cell_type": "markdown",
   "id": "local-sullivan",
   "metadata": {},
   "source": [
    "# Watering detection\n",
    "This notebook serves as a playground for tuning parameters of the watering detection algorithm based on detecting increases in the soil moisture measurements."
   ]
  },
  {
   "cell_type": "code",
   "execution_count": 14,
   "id": "correct-drinking",
   "metadata": {},
   "outputs": [],
   "source": [
    "import matplotlib.pyplot as plt\n",
    "from ipywidgets import interact, IntSlider, FloatSlider"
   ]
  },
  {
   "cell_type": "markdown",
   "id": "spiritual-panic",
   "metadata": {},
   "source": [
    "Let's define some dummy, albeit plausible, moisture measurements."
   ]
  },
  {
   "cell_type": "code",
   "execution_count": 15,
   "id": "peripheral-pierre",
   "metadata": {},
   "outputs": [],
   "source": [
    "measurements = [31,33,32,27,30,31,32,30,29,30,31,29,28,29,28,27,26,27,27,26,25,24,28,23,22,21,19,20,20,19,20,20,25,19,19,18,17,17,16,15,15,15,17,15,14,15,14,15,14,13,16,18,19,20,24,22,24,28,27,28,30,33,35,35,34,35,33,35,34,33,33,34,36,32,31,33,30,29,30,32,33,29,32,31,30,29,30,31,28,30]"
   ]
  },
  {
   "cell_type": "markdown",
   "id": "acceptable-exposure",
   "metadata": {},
   "source": [
    "Now, let's see how tinkering with parameters can change the detector output."
   ]
  },
  {
   "cell_type": "code",
   "execution_count": 16,
   "id": "female-rates",
   "metadata": {},
   "outputs": [
    {
     "data": {
      "application/vnd.jupyter.widget-view+json": {
       "model_id": "af96c70144304914b97c28bfa262863c",
       "version_major": 2,
       "version_minor": 0
      },
      "text/plain": [
       "interactive(children=(FloatSlider(value=0.85, description='beta', max=1.0, step=0.01), IntSlider(value=15, des…"
      ]
     },
     "metadata": {},
     "output_type": "display_data"
    }
   ],
   "source": [
    "@interact(beta=FloatSlider(min=0.,max=1.,step=0.01, value=0.85), window_width=IntSlider(min=1,max=len(measurements), step=1, value=15), increase_threshold=IntSlider(min=1,max=max(measurements)-min(measurements), step=1, value=5))\n",
    "def show_plot(beta, window_width, increase_threshold):\n",
    "    ema_measurements = [measurements[0]]\n",
    "    for i in range(1, len(measurements)):\n",
    "        ema_measurements.append(beta*ema_measurements[-1] + (1-beta)*measurements[i])\n",
    "    water_idx = -1\n",
    "    for i in range(window_width,len(ema_measurements)):\n",
    "        if ema_measurements[i]-ema_measurements[i-window_width]>increase_threshold:\n",
    "            water_idx = i\n",
    "            break\n",
    "    plt.plot(measurements)\n",
    "    plt.plot(ema_measurements)\n",
    "    if water_idx>0:\n",
    "        plt.axvline(x=water_idx, c='red')\n",
    "        plt.text(water_idx-5.5, max(measurements)+(max(measurements)-min(measurements))/10, 'Watering', color='red')\n",
    "        plt.axvline(x=water_idx-window_width, c='red', ls='--', alpha=0.3)"
   ]
  }
 ],
 "metadata": {
  "kernelspec": {
   "display_name": "Python 3",
   "language": "python",
   "name": "python3"
  },
  "language_info": {
   "codemirror_mode": {
    "name": "ipython",
    "version": 3
   },
   "file_extension": ".py",
   "mimetype": "text/x-python",
   "name": "python",
   "nbconvert_exporter": "python",
   "pygments_lexer": "ipython3",
   "version": "3.6.4"
  }
 },
 "nbformat": 4,
 "nbformat_minor": 5
}
